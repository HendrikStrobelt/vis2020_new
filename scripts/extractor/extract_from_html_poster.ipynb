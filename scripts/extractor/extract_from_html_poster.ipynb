{
 "cells": [
  {
   "cell_type": "code",
   "execution_count": 4,
   "metadata": {
    "collapsed": true
   },
   "outputs": [],
   "source": [
    "import re\n",
    "from bs4 import BeautifulSoup\n",
    "import pandas as pd\n",
    "import numpy as np\n",
    "from fuzzywuzzy import process, fuzz\n"
   ]
  },
  {
   "cell_type": "code",
   "execution_count": 5,
   "outputs": [],
   "source": [
    "with open('posters.html','r') as f:\n",
    "    bs = BeautifulSoup(f.read(), 'html.parser')"
   ],
   "metadata": {
    "collapsed": false,
    "pycharm": {
     "name": "#%%\n"
    }
   }
  },
  {
   "cell_type": "code",
   "execution_count": 6,
   "outputs": [
    {
     "data": {
      "text/plain": "<!DOCTYPE HTML>\n\n<html>\n<head>\n<title>VIS 2018: Posters</title>\n<meta content=\"text/html; charset=utf-8\" http-equiv=\"content-type\"/>\n<meta content=\"\" name=\"description\"/>\n<meta content=\"\" name=\"keywords\"/>\n<!--[if lte IE 8]><script src=\"css/ie/html5shiv.js\"></script><![endif]-->\n<script src=\"js/jquery.min.js\"></script>\n<script src=\"js/jquery.dropotron.min.js\"></script>\n<script src=\"js/skel.min.js\"></script>\n<script src=\"js/skel-layers.min.js\"></script>\n<script src=\"js/init.js\"></script>\n<noscript>\n<link href=\"css/skel.css\" rel=\"stylesheet\"/>\n<link href=\"css/style.css\" rel=\"stylesheet\"/>\n</noscript>\n<!--[if lte IE 8]><link rel=\"stylesheet\" href=\"css/ie/v8.css\" /><![endif]-->\n</head>\n<body>\n<!-- Header Wrapper -->\n<div class=\"wrapper style1\">\n<!-- Header -->\n<div id=\"header\">\n<div class=\"container\">\n<!-- Logo -->\n<h1><br/><a href=\"index.html\"><img height=\"65\" src=\"images/vis18-small.png\" width=\"65\"/></a></h1>\n<!-- Nav -->\n<nav id=\"nav\">\n<ul>\n<li>\n<a href=\"\">VIS</a>\n<ul>\n<li><a href=\"keynote.html\">Keynote Speaker</a> </li>\n<li><a href=\"capstone.html\">Capstone Speaker</a> </li>\n<li><a href=\"paperSessions.html\">VIS Paper Sessions</a></li>\n<li><a href=\"posters.html\">Posters</a></li>\n<li><a href=\"workshops.html\">Workshops</a></li>\n<li><a href=\"tutorials.html\">Tutorials</a></li>\n<li><a href=\"panels.html\">Panels</a></li>\n<li><a href=\"dc.html\">Doctoral Colloquium</a></li>\n<li><a href=\"scivis-contest.html\">SciVis Contest</a></li>\n<li> <a href=\"visinpractice.html\">VisInPractice</a></li>\n<li><a href=\"supportersPres.html\">Supporter Presentations</a></li>\n<li><a href=\"visap.html\">VIS Arts Program</a></li>\n<li><a href=\"meetups.html\">Meetups</a></li>\n<li><a href=\"https://vimeopro.com/vgtcommunity/vis-18-video-previews\">Video Previews</a></li>\n<li> <a href=\"ToT-awards.html\">Test of Time Awards</a></li>\n</ul>\n</li>\n<li>\n<a href=\"\">Events</a>\n<ul>\n<li><a href=\"beliv.html\">BELIV</a></li>\n<li><a href=\"biovis.html\">BioVis</a></li>\n<li><a href=\"ldav.html\">LDAV</a></li>\n<li><a href=\"vds.html\">VDS</a></li>\n<li><a href=\"vizsec.html\">VizSec</a></li>\n</ul>\n</li>\n<li>\n<a href=\"\">Program</a>\n<ul>\n<li><a href=\"vis18-program.pdf\">Program</a></li>\n<li><a href=\"vis18-badgeinsert.pdf\">Week At-A-Glance</a></li>\n<li><a href=\"visinpractice-guide.html\">Practitioner Guide</a></li>\n</ul>\n</li>\n<li>\n<a href=\"\">Messages and Committees</a>\n<ul>\n<li><a href=\"EIC.pdf\"><em>TVCG</em> EIC Message</a></li>\n<li><a href=\"preface.pdf\"><em>TVCG</em> Guest Editors &amp; Paper Chairs Message</a></li>\n<li><a href=\"committees.pdf\" target=\"_blank\">Committees</a></li>\n<li><a href=\"reviewers-papers.pdf\" target=\"_blank\">VIS Paper Reviewers</a></li>\n<li><a href=\"supporters.pdf\" target=\"_blank\">Supporters</a></li>\n<li><a href=\"vgtc.pdf\" target=\"_blank\">VGTC Executive Committee</a></li>\n<li><a href=\"vis_career18.pdf\" target=\"_blank\">VGTC Vis Career Award</a></li>\n<li><a href=\"vis_tech18.pdf\" target=\"_blank\">VGTC Vis Technical Achievement Award</a></li>\n</ul>\n</li>\n</ul></nav></div></div></div></body></html>\n\n\n\n\n\n\n<!-- Main -->\n<div class=\"wrapper style4\" id=\"main\">\n<!-- Content -->\n<div class=\"container\" id=\"content\">\n<section>\n<header class=\"major\">\n<h2>Posters</h2>\n<p> </p>\n</header>\n<p><a href=\"posters/adrielaseniero.pdf\">Health Visualizations at Home: Who Sees What Where</a><br/>\nBon Adriel Aseniero, Anthony Tang, Sheelagh Carpendale</p>\n<p><a href=\"posters/alakkari.pdf\">A Multi-View Image-Based Volume Visualization Technique</a><br/>\n\t\t\t          Salaheddin Alakkari, John Dingliana</p>\n<p><a href=\"posters/alipour.pdf\">Situated Visualizations of Office Noise to Promote Personal Health</a><br/>\n\t\t\t          Mina Alipour, Pierre Dragicevic, Tobias Isenberg, Petra Isenberg</p>\n<p><a href=\"posters/almaneea.pdf\">Study of Multiple View Layout Strategies in Visualization</a><br/>\n\t\t\t          Hayder M. Al-maneea, Jonathan C. Roberts</p>\n<p><a href=\"posters/alpboz.pdf\">Effects of Declinism and Distinction Biases on Data Visualization</a><br/>\n\t\t\t          Hasan Alp Boz, Rafiye Kececi, Yasemin Yasaroglu, Selim Balcisoy</p>\n<p><a href=\"posters/asai.pdf\">An Interactive Tool for Feature Analysis of Outliers in Multi-Dimensional Data</a><br/>\nKentaro Asai, Tsukasa Fukusato, Takeo Igarashi</p>\n<p><a href=\"posters/aupetit.pdf\">Multi-Dimensional Projections Explorer: Searching through Techniques, Quality Measures, Analytic Tasks, and Layout Enrichments</a><br/>\n\t\t\t          Michaël Aupetit, Mosammat Samiha Sadeka, Ali Sajjad, Luis Gustavo Nonato</p>\n<p><a href=\"posters/baumann.pdf\">Zooming on Tokens: Seamless Display Modes for Annotation Analysis</a><br/>\nMartin Baumann, Steffen Koch, Harutyun Minasyan, Thomas Ertl</p>\n<p><a href=\"posters/belmonte.pdf\">Refolding the Earth: Interactive Myriahedral Projection and Fabrication</a><br/>\n\t\t\t          Nicolas Belmonte, Yang Wang</p>\n<p><em>[Honorable Mention] <br/>\n</em><a href=\"posters/berger.pdf\">Integrated Visualization of Structure and Attribute Similarity of Multivariate Graphs</a><br/>\nPhilip Berger, Mohammad Chegini, Heidrun Schumann, Christian Tominski</p>\n<p><a href=\"posters/bigelow.pdf\">Mure.js: Toward Flexible Authoring and Reshaping of Networks</a><br/>\nAlex Bigelow, Carolina Nobre, Alexander Lex, Miriah Meyer</p>\n<p><a href=\"posters/bok.pdf\">Scaling Up Parallel Coordinate Plot with Color-coded Stacked Histograms</a> [<a href=\"posters/bok/bok-supmat.mp4\">Supplemental Material</a>]<br/>\nJinwook Bok, Bohyoung Kim, Jinwook Seo</p>\n<p><a href=\"posters/borland.pdf\">Dual View: Multivariate Visualization Using Linked Layouts of Objects and Dimensions</a><br/>\n\t\t\t          David Borland, David Gotz</p>\n<p><a href=\"posters/butcher.pdf\">Towards a Framework for Immersive Analytics on the Web</a><br/>\nPeter W. S. Butcher, Nigel W. John, Panagiotis D. Ritsos</p>\n<p><a href=\"posters/chatzimparmpas.pdf\">t-viSNE: A Visual Inspector for the Exploration of t-SNE</a><br/>\nAngelos Chatzimparmpas, Rafael M. Martins, Andreas Kerren</p>\n<p><a href=\"posters/chen1.pdf\">Designing Narrative Slideshows for Learning Analytics</a> [<a href=\"posters/chen1/chen1-supmat.mp4\">Supplemental Material</a>]<br/>\n\t\t\t          Qing Chen, Zhen Li, Ting-Chuen Pong, Huamin Qu</p>\n<p><a href=\"posters/chen2.pdf\">Bridging the Gap between Visual Analytics and Storytelling: General Framework and Application to Social Media Data</a><br/>\nSiming Chen, Jie Lie, Gennady Andrienko, Natalia Andrienko, Phong H. Nguyen, Cagatay Turkay</p>\n<p><a href=\"posters/chen3.pdf\">HCT: A Visual Analysis Method for Tree Comparison Based on Circular Treemap</a><br/>\nYi Chen, Yue Li, Cheng Lv</p>\n<p><a href=\"posters/choi.pdf\">Towards Concept-Driven Visual Analytics</a><br/>\n\t\t\t          In Kwon Choi, Swati Mishra, Kyle Harris, Nirmal Kumar Raveendranath, Taylor Childers, Khairi Reda</p>\n<p><a href=\"posters/crisan.pdf\">Creating Explorable Visualization Design Spaces for Domain Experts: An Example from Infectious Disease Genomic Epidemiology</a> [<a href=\"posters/crisan/crisan-supmat.mp4\">Supplemental Material</a>]<br/>\n\t\t\t          Anamaria Crisan, Jennifer L. Gardy, Tamara Munzner</p>\n<p><a href=\"posters/cuenca.pdf\">Visual Querying and Exploring of Large Multilayer Graphs</a><br/>\n\t\t\t          Erick Cuenca, Arnaud Sallaberry, Dino Ienco, Pascal Poncelet</p>\n<p><a href=\"posters/currier.pdf\">Arctic Movement: Visualization of a Photographic Collection</a><br/>\n\t\t\t          Katherine Currier, Sheelagh Carpendale</p>\n<p><a href=\"posters/dandin.pdf\">ComVisMD-A Visualization Tool for Compact Display of Multidimensional Data: An Illustration on Cricket Players Data</a><br/>\nShridhar B. Dandin, Mireille Ducassé</p>\n<p><a href=\"posters/dejonge.pdf\">Privacy Protected Thematic Maps</a><br/>\n\t\t\t          Edwin de Jonge, Peter-Paul de Wolf</p>\n<p><a href=\"posters/ennemoser.pdf\">ConfusionFlow: Visualizing Neural Network Confusion Across Epochs</a><br/>\n\t\t\t          Martin Ennemoser, Peter Ruch, Holger Stitz, Hendrik Strobelt, Marc Streit</p>\n<p><a href=\"posters/guchev.pdf\">Combining Multiple View Components for Exploratory Visualization</a><br/>\n\t\t\t          Vladimir Guchev, Paolo Buono, Cristina Gena</p>\n<p><a href=\"posters/guo.pdf\">BubbleUp: Toward Better Analysis for Temporal Event Data</a> [<a href=\"posters/guo/guo-supmat.mp4\">Supplemental Material</a>]<br/>\n\t\t\t          Wenjun Guo, Seungwook Kim, Seongmin Mun, Kyungwon Lee</p>\n<p><a href=\"posters/han.pdf\">A Visualization Tool for Intellectual Property Law Research in China</a><br/>\nJin Han, Jingyi Zhu, Ling Ma, Bindu Chib</p>\n<p><a href=\"posters/horak.pdf\">Comparing Rendering Performance of Common Web Technologies for Large Graphs</a><br/>\n\t\t\t          Tom Horak, Ulrike Kister, Raimund Dachselt</p>\n<p><a href=\"posters/hull.pdf\">Simultaneous Wolds: Using Physical Models to Contextualize and Compose Visualizations</a> [<a href=\"posters/hull/hull-supmat.mov\">Supplemental Material</a>]<br/>\n\t\t\t          Carmen Hull, Sheelagh Carpendale, Wesley Willett</p>\n<p><a href=\"posters/humayoun.pdf\">A Visual Analytics Framework for Automated Machine Learning</a><br/>\nShah Rukh Humayoun, Dylan Cashman, Florian Heimerl, Remco Chang</p>\n<p><a href=\"posters/huynh.pdf\">Views as Rich Menus for Other Views: A Case Study on Personal Data Visualization</a><br/>\nTina Huynh, Søren Knudsen, Sheelagh Carpendale</p>\n<p><a href=\"posters/hynes.pdf\">Discovering the Data Mapping of an Unfamiliar Visualization</a><br/>\n\t\t\t          Lisa Hynes, Tina Huynh, Sarah Storteboom, Jagoda Walny, Christian Frisson, Doris Kosminsky, Mieka West, Sheelagh Carpendale, Wesley Willett</p>\n<p><a href=\"posters/jackson.pdf\">Creating Small Unit-Based Glyph Visualisations</a><br/>\n\t\t\t          James R. Jackson, Panagiotis D. Ritsos, Jonathan C. Roberts</p>\n<p><a href=\"posters/kamakshidasan.pdf\">Spatial Comparison of Cricketers</a><br/>\n\t\t\t          Adhitya Kamakshidasan</p>\n<p><a href=\"posters/kang.pdf\">CLIPPR: Maximally Informative CLIPped PRojections with Bounding Regions</a><br/>\n\t\t\t          Bo Kang, Dylan Cashman, Remco Chang, Jefrey Lijffijt, Tijl De Bie</p>\n<p><a href=\"posters/karawash.pdf\">TasteGraph: A Visual Analytics Tool for Profiling Media Audiences’ Tastes</a><br/>\nAhmad Karawash, Sara Diamond, Marcus A. Gordon, Jad Al Rabbaa, Roxolyana Shepko-Hamilton, Greice C. Mariano, Lan-Xi Dong, Afrooz Samaei, Hugh Ritchie</p>\n<p><a href=\"posters/kaya.pdf\">ViaVelox—A System to Visually Analyze GPS-Tracked Bike Rides</a><br/>\nDeniz Kaya, Büsra Keles, Dimitry Nagorny, Pascal Perle, Philip Pregler, Lisa Rudolf, Martin Schröder, Ugur Tunali, Till Nagel</p>\n<p><a href=\"posters/keck1.pdf\">Visualizing Learning Experiences Using Conversation Flows</a><br/>\n\t\t\t          Mandy Keck, Alexander Maasch, Romy Bürger, Rainer Groh</p>\n<p><a href=\"posters/keck2.pdf\">Visual Version Comparison of Multidimensional Data Sets Using Glyphs</a><br/>\n\t\t\t          Mandy Keck, Dietrich Kammer, Rainer Groh</p>\n<p><a href=\"posters/kiesel.pdf\">Improving Barycentric Embeddings of Topic Spaces</a><br/>\n\t\t\t          Dora Kiesel, Patrick Riehmann, Fan Fan, Yamen Ajjour, Henning Wachsmuth, Benno Stein, Bernd Froehlich</p>\n<p><a href=\"posters/kim.pdf\">Fostering Data Humanism with DataPortraits: Empowering People to Create a Personalized Visual Vocabulary</a><br/>\n\t\t\t          Nam Wook Kim, Hyejin Im, Nathalie Henry Riche, Krzysztof Gajos, Hanspeter Pfister</p>\n<p><a href=\"posters/kluge.pdf\">Virtual Lenses for Immersive Analytics</a> [<a href=\"posters/kluge/\">Supplemental Material</a>]<br/>\n\t\t\t          Sven Kluge, Stefan Gladisch, Uwe Freiherr von Lukas, Christian Tominski</p>\n<p><a href=\"posters/knittel.pdf\">Highlighting Text Regions of Interest with Character-Based LSTM Recurrent Networks</a><br/>\n\t\t\t          Johannes Knittel, Steffen Koch, Thomas Ertl</p>\n<p><a href=\"posters/koch.pdf\">MEXPRESS: 2018 Update</a><br/>\nAlexander Koch, Tim De Meyer, Jana Jeschke, Wim Van, Manon van</p>\n<p><a href=\"posters/koseoglu.pdf\">ST Sequence Miner: Visual Event Sequence Pattern Mining with Spatio-temporal Log Data</a><br/>\nBaran Koseoglu, Erdem Kaya, Selim Balcisoy</p>\n<p><a href=\"posters/langner.pdf\">Towards Visual Data Exploration at Wall-Sized Displays by Combining Physical Navigation with Spatially-Aware Devices</a><br/>\n\t\t\t          Ricardo Langner, Raimund Dachselt</p>\n<p><em>[Honorable Mention] </em><br/>\n<a href=\"posters/lee.pdf\">A Scale-Space Filtering Approach for the Multi-Resolution Illustrative Visualization of Multivariate Data</a><br/>\nJenny Hyunjung Lee, Klaus Mueller</p>\n<p><em>[Best Poster] <br/>\n</em><a href=\"posters/liem.pdf\">Conveying Uncertainty in Archived War Diaries with GeoBlobs</a><br/>\nJohannes Liem, Eirini Goudarouli, Steven Hirschorn, Jo Wood, Charles Perin</p>\n<p><a href=\"posters/lin1.pdf\">Visualizing Attention in Sequence-to-Sequence Summarization Models</a><br/>\n\t\t\t          Halden Lin, Tongshuang Wu, Kanit Wongsuphasawat, Yejin Choi, Jeffrey Heer</p>\n<p><a href=\"posters/lin2.pdf\">Visualizing Dynamic Networks of Long Sequences with Pixel Matrix Array</a><br/>\nLijing Lin, Liwenhan Xie, Zhuo Zhang, Xiaoru Yuan</p>\n<p><em>[Honorable Mention] </em><br/>\n<a href=\"posters/magallanescastaneda.pdf\">Visualizing Time in Temporal Event Sequences</a><br/>\nJessica Magallanes-Castaneda, Lindsey van Gemeren, Steven Wood, Maria-Cruz Villa-Uriol</p>\n<p><a href=\"posters/maji.pdf\">Perceptually Optimized Color Selection for Visualization</a><br/>\n\t\t\t          Subhrajyoti Maji, John Dingliana</p>\n<p><a href=\"posters/meulemans1.pdf\">Assessing Dot-Map Aggregations</a><br/>\n\t\t\t          Wouter Meulemans, Martijn Tennekes</p>\n<p><a href=\"posters/meulemans2.pdf\">On Minimum-Displacement Overlap Removal</a><br/>\n\t\t\t          Wouter Meulemans</p>\n<p><a href=\"posters/miyagi.pdf\">Analysis and Graph Visualization of Eye Tracking Data with a Static Stimulus</a><br/>\n\t\t\t          Yuri Miyagi, Daniel Weiskopf, Takayuki Itoh</p>\n<p><a href=\"posters/mosca.pdf\">Towards Data Science for the Masses: A Study of Data Scientists and Their Interactions with Clients<br/>\n</a>Abigail Mosca, Shannon Robinson, Meredith Clarke, Rebecca Redelmeier, Sebastian Coates, Dylan Cashman, Remco Chang</p>\n<p><a href=\"posters/navarra.pdf\">Bonus Miracle Tool: Visual Exploration of Nutrients across the Baltic Sea Region</a><br/>\n\t\t\t          Carlo Navarra, Tina Neset, Juile Wilk, Alena Bartosova, René Capell</p>\n<p><em>[Best Poster] </em><br/>\n<a href=\"posters/novotny.pdf\">Developing Virtual Reality Visualizations of Dinosaur Track Creation with Scientific Sketching</a><br/>\n\t\t\t          Johannes Novotny, Joshua Tveite, Morgan L. Turner, Stephen Gatesy, Fritz Drury, Peter Falkingham, David H. Laidlaw</p>\n<p><em>[Best Poster] </em><br/>\n<a href=\"posters/pandey.pdf\">CerebroVis: Topology- and Constraint-based Network Layout for the Visualization of Cerebrovascular Arteries</a><br/>\n\t\t\t          Aditeya Pandey, Harsh Shukla, Geoffrey S. Young, Lei Qin, Cody Dunne, Michelle A. Borkin</p>\n<p><a href=\"posters/park.pdf\">GitHub Viz: An Interactive Visualization to Acquire Knowledge from Authoritative Developers</a><br/>\nChanhee Park, Sungjun Do, Eunjeong Lee, Hanna Jang, Sungchan Jeong, Hyunwoo Han, Kyungwon Lee</p>\n<p><a href=\"posters/parsons.pdf\">Toward an Analysis of Practitioner-Oriented Resources for Visualization Design</a><br/>\n\t\t\t          Paul Parsons, Ya-Hsin Hung, Ali Baigelenov</p>\n<p><a href=\"posters/perin.pdf\">The Symmetry of My Life II</a><br/>\n\t\t\t          Charles Perin</p>\n<p><a href=\"posters/rajabiyazdi.pdf\">Personal Patient-Generated Data Visualizations for Diabetes Patients</a><br/>\n\t\t\t\t        Fateme Rajabiyazdi, Charles Perin, Lora Oehlberg, Sheelagh Carpendale</p>\n<p><a href=\"posters/riviere.pdf\">The Voronoi Projection</a><br/>\n\t\t\t          Philippe Rivière</p>\n<p><a href=\"posters/rogers.pdf\">Composer: Visual Cohort Analysis of Patient Outcomes</a><br/>\n\t\t\t          Jennifer Rogers, Nicholas Spina, Ashley Neese, Rachel Hess, Darrel Brodke, Alexander Lex</p>\n<p><a href=\"posters/sathiyanarayanan.pdf\">Visualising E-mail Communication to Improve E-discovery</a><br/>\n\t\t\t          Mithileysh Sathiyanarayanan, Cagatay Turkay, Jason Dykes</p>\n<p><a href=\"posters/schwab.pdf\">EasyPZ.js: A Library for Pan and Zoom Visualizations</a> [<a href=\"posters/schwab/schwab-supmat.mp4\">Supplemental Material</a>]<br/>\nMichail Schwab, James Tompkin, Jeff Huang, Michelle A. Borkin</p>\n<p><a href=\"posters/serrano.pdf\">Design and Development of a Dashboard for the Visualization and Assessment of Students Work in a Remote Lab</a><br/>\n\t\t\t          Vanessa Serrano, Jordi Cuadros, Javier Garcia-Zubia, Unai Hernández-Jayo, Luis Mompó</p>\n<p><a href=\"posters/skokan.pdf\">Interactive Visual Tools Supporting Effective Health State Understanding of Patient with Comorbidities</a><br/>\n\t\t\t\t        Marek Skokan, Jan Hreno</p>\n<p><a href=\"posters/slingsby.pdf\">Characterising Farms by the Movement of Animals through Them</a><br/>\n\t\t\t          Aidan Slingsby, Andy Paterson, Mark Rigby, Katherine Grace, Phong Nguyen, Charles Perin, Cagatay Turkay, Dalal Aljasem</p>\n<p><a href=\"posters/spechtenhauser.pdf\">Towards a Visual Analytics Pipeline for the Analysis of Recurring Patterns in Time Series Data</a> [<a href=\"posters/spechtenhauser/spechtenhauser-supmat.mp4\">Supplemental Material</a>]<br/>\nFlorian Spechtenhauser, Rastislav Hronsky, Torsten Möller, Harald Piringer</p>\n<p><em>[Best Poster] </em><br/>\n<a href=\"posters/spur.pdf\">Urban DataSphere: Exploring Immersive Multiview Visualizations in Cities</a> [<a href=\"posters/spur/spur-supmat.mp4\">Supplemental Material</a>]<br/>\n\t\t\t          Maxim Spur, Vincent Tourre</p>\n<p><a href=\"posters/stuwe.pdf\">Visual Analysis of Abnormal Thickness of Intraretinal Layers</a><br/>\nJörg Stüwe, Martin Röhlig, Heidrun Schumann, Ruby Kala Prakasam, Oliver Stachs</p>\n<p><a href=\"posters/suh.pdf\">TopoLines: Topological Smoothing for Line Charts</a><br/>\n\t\t\t          Ashley Suh, Christopher Salgado, Mustafa Hajij, Paul Rosen</p>\n<p><a href=\"posters/tyagi.pdf\">Road Accidents in the UK (Analysis and Visualization)</a><br/>\nAnjul K. Tyagi, Ayush Kumar, Anshul Gandhi, Klaus Mueller</p>\n<p><a href=\"posters/uslu.pdf\">PolyViz—A Visualization System for Special Kind of Multipartite Graphs</a><br/>\nTolga Uslu, Alexander Mehler</p>\n<p><a href=\"posters/vosough.pdf\">Visualizing the Results of Product Costing Plausibility Checks with Parallel Hierarchies</a><br/>\n\t\t\t\t        Zana Vosough<br/>\n</p>\n<p><a href=\"posters/wang.pdf\">Subspace Shapes: Enhancing High-Dimensional Subspace Structures via Ambient Occlusion Shading</a><br/>\n\t\t\t          Bing Wang, Klaus Mueller</p>\n<p><em>[Honorable Mention] <br/>\n</em><a href=\"posters/wannamaker.pdf\">Data Embroidery: Exploring Alternative Mediums for Personal Physicalization</a><br/>\n\t\t\t          Kendra Wannamaker, Lora Oehlberg, Sheelagh Carpendale, Wesley Willett</p>\n<p><em>[Honorable Mention]</em><br/>\n<a href=\"posters/waschke.pdf\">Evaluation of Guide Wire Proficiency During a Catheter-based Intervention</a><br/>\n\t\t\t          Johannes Waschke, Katja Isabel Paul, Peter Lanzer, Mario Hlawitschka</p>\n<p><a href=\"posters/zeng.pdf\">Manual and Automatic Tree Editing with Applications to Microbiome Time-series Data</a><br/>\n\t\t\t          Zehua Zeng, Niklas Elmqvist, Catherine Plaisant</p>\n<p><a href=\"posters/zhang.pdf\">Increasing Understanding of Survey Re-Weighting with Visualization</a><br/>\n\t\t\t          Yufei Zhang, David Borland, David Gotz</p>\n<p>[<a href=\"#top\">TOP</a>]</p>\n</section>\n</div>\n</div>\n<!-- Footer -->\n<!-- Copyright -->\n<div id=\"copyright\">\n<ul class=\"copyright\">\n<li><a href=\"http://www.ieeevis.org\" target=\"_blank\">IEEE VIS 2018</a></li>\n<li>2018 Associated Events: <a href=\"https://beliv-workshop.github.io/\">BELIV</a>, <a href=\"http://www.ldav.org/\" target=\"_blank\">LDAV</a>, <a href=\"http://www.visualdatascience.org/\" target=\"_blank\">VDS</a>, <a href=\"http://vizsec.org/\" target=\"_blank\">VizSec</a></li>\n<li>© copyright on individual submissions</li>\n<li><a href=\"http://ieeevis.org/year/2018/info/inclusion-and-diversity/code-of-conduct\">VIS Code of Conduct</a></li>\n<br/>\n<li><img border=\"0\" height=\"49\" src=\"images/sponsors.png\" usemap=\"#Map\" width=\"600\"/>\n<map name=\"Map\">\n<area alt=\"IEEE\" coords=\"4,3,126,46\" href=\"http://www.ieee.org/index.html\" shape=\"rect\" target=\"_blank\"/>\n<area alt=\"VGTC\" coords=\"247,-5,347,45\" href=\"http://vgtc.org\" shape=\"rect\" target=\"_blank\"/>\n<area alt=\"IEEE CS\" coords=\"462,4,609,48\" href=\"https://www.computer.org\" shape=\"rect\" target=\"_blank\"/>\n</map>\n</li>\n</ul>\n</div>\n\n"
     },
     "execution_count": 6,
     "metadata": {},
     "output_type": "execute_result"
    }
   ],
   "source": [
    "bs"
   ],
   "metadata": {
    "collapsed": false,
    "pycharm": {
     "name": "#%%\n"
    }
   }
  },
  {
   "cell_type": "code",
   "execution_count": 7,
   "outputs": [],
   "source": [
    "all_papers = bs.findAll('a', href=re.compile('^posters.*\\.pdf$'))"
   ],
   "metadata": {
    "collapsed": false,
    "pycharm": {
     "name": "#%%\n"
    }
   }
  },
  {
   "cell_type": "code",
   "execution_count": 8,
   "outputs": [
    {
     "data": {
      "text/plain": "[<a href=\"posters/adrielaseniero.pdf\">Health Visualizations at Home: Who Sees What Where</a>,\n <a href=\"posters/alakkari.pdf\">A Multi-View Image-Based Volume Visualization Technique</a>,\n <a href=\"posters/alipour.pdf\">Situated Visualizations of Office Noise to Promote Personal Health</a>,\n <a href=\"posters/almaneea.pdf\">Study of Multiple View Layout Strategies in Visualization</a>,\n <a href=\"posters/alpboz.pdf\">Effects of Declinism and Distinction Biases on Data Visualization</a>,\n <a href=\"posters/asai.pdf\">An Interactive Tool for Feature Analysis of Outliers in Multi-Dimensional Data</a>,\n <a href=\"posters/aupetit.pdf\">Multi-Dimensional Projections Explorer: Searching through Techniques, Quality Measures, Analytic Tasks, and Layout Enrichments</a>,\n <a href=\"posters/baumann.pdf\">Zooming on Tokens: Seamless Display Modes for Annotation Analysis</a>,\n <a href=\"posters/belmonte.pdf\">Refolding the Earth: Interactive Myriahedral Projection and Fabrication</a>,\n <a href=\"posters/berger.pdf\">Integrated Visualization of Structure and Attribute Similarity of Multivariate Graphs</a>,\n <a href=\"posters/bigelow.pdf\">Mure.js: Toward Flexible Authoring and Reshaping of Networks</a>,\n <a href=\"posters/bok.pdf\">Scaling Up Parallel Coordinate Plot with Color-coded Stacked Histograms</a>,\n <a href=\"posters/borland.pdf\">Dual View: Multivariate Visualization Using Linked Layouts of Objects and Dimensions</a>,\n <a href=\"posters/butcher.pdf\">Towards a Framework for Immersive Analytics on the Web</a>,\n <a href=\"posters/chatzimparmpas.pdf\">t-viSNE: A Visual Inspector for the Exploration of t-SNE</a>,\n <a href=\"posters/chen1.pdf\">Designing Narrative Slideshows for Learning Analytics</a>,\n <a href=\"posters/chen2.pdf\">Bridging the Gap between Visual Analytics and Storytelling: General Framework and Application to Social Media Data</a>,\n <a href=\"posters/chen3.pdf\">HCT: A Visual Analysis Method for Tree Comparison Based on Circular Treemap</a>,\n <a href=\"posters/choi.pdf\">Towards Concept-Driven Visual Analytics</a>,\n <a href=\"posters/crisan.pdf\">Creating Explorable Visualization Design Spaces for Domain Experts: An Example from Infectious Disease Genomic Epidemiology</a>,\n <a href=\"posters/cuenca.pdf\">Visual Querying and Exploring of Large Multilayer Graphs</a>,\n <a href=\"posters/currier.pdf\">Arctic Movement: Visualization of a Photographic Collection</a>,\n <a href=\"posters/dandin.pdf\">ComVisMD-A Visualization Tool for Compact Display of Multidimensional Data: An Illustration on Cricket Players Data</a>,\n <a href=\"posters/dejonge.pdf\">Privacy Protected Thematic Maps</a>,\n <a href=\"posters/ennemoser.pdf\">ConfusionFlow: Visualizing Neural Network Confusion Across Epochs</a>,\n <a href=\"posters/guchev.pdf\">Combining Multiple View Components for Exploratory Visualization</a>,\n <a href=\"posters/guo.pdf\">BubbleUp: Toward Better Analysis for Temporal Event Data</a>,\n <a href=\"posters/han.pdf\">A Visualization Tool for Intellectual Property Law Research in China</a>,\n <a href=\"posters/horak.pdf\">Comparing Rendering Performance of Common Web Technologies for Large Graphs</a>,\n <a href=\"posters/hull.pdf\">Simultaneous Wolds: Using Physical Models to Contextualize and Compose Visualizations</a>,\n <a href=\"posters/humayoun.pdf\">A Visual Analytics Framework for Automated Machine Learning</a>,\n <a href=\"posters/huynh.pdf\">Views as Rich Menus for Other Views: A Case Study on Personal Data Visualization</a>,\n <a href=\"posters/hynes.pdf\">Discovering the Data Mapping of an Unfamiliar Visualization</a>,\n <a href=\"posters/jackson.pdf\">Creating Small Unit-Based Glyph Visualisations</a>,\n <a href=\"posters/kamakshidasan.pdf\">Spatial Comparison of Cricketers</a>,\n <a href=\"posters/kang.pdf\">CLIPPR: Maximally Informative CLIPped PRojections with Bounding Regions</a>,\n <a href=\"posters/karawash.pdf\">TasteGraph: A Visual Analytics Tool for Profiling Media Audiences’ Tastes</a>,\n <a href=\"posters/kaya.pdf\">ViaVelox—A System to Visually Analyze GPS-Tracked Bike Rides</a>,\n <a href=\"posters/keck1.pdf\">Visualizing Learning Experiences Using Conversation Flows</a>,\n <a href=\"posters/keck2.pdf\">Visual Version Comparison of Multidimensional Data Sets Using Glyphs</a>,\n <a href=\"posters/kiesel.pdf\">Improving Barycentric Embeddings of Topic Spaces</a>,\n <a href=\"posters/kim.pdf\">Fostering Data Humanism with DataPortraits: Empowering People to Create a Personalized Visual Vocabulary</a>,\n <a href=\"posters/kluge.pdf\">Virtual Lenses for Immersive Analytics</a>,\n <a href=\"posters/knittel.pdf\">Highlighting Text Regions of Interest with Character-Based LSTM Recurrent Networks</a>,\n <a href=\"posters/koch.pdf\">MEXPRESS: 2018 Update</a>,\n <a href=\"posters/koseoglu.pdf\">ST Sequence Miner: Visual Event Sequence Pattern Mining with Spatio-temporal Log Data</a>,\n <a href=\"posters/langner.pdf\">Towards Visual Data Exploration at Wall-Sized Displays by Combining Physical Navigation with Spatially-Aware Devices</a>,\n <a href=\"posters/lee.pdf\">A Scale-Space Filtering Approach for the Multi-Resolution Illustrative Visualization of Multivariate Data</a>,\n <a href=\"posters/liem.pdf\">Conveying Uncertainty in Archived War Diaries with GeoBlobs</a>,\n <a href=\"posters/lin1.pdf\">Visualizing Attention in Sequence-to-Sequence Summarization Models</a>,\n <a href=\"posters/lin2.pdf\">Visualizing Dynamic Networks of Long Sequences with Pixel Matrix Array</a>,\n <a href=\"posters/magallanescastaneda.pdf\">Visualizing Time in Temporal Event Sequences</a>,\n <a href=\"posters/maji.pdf\">Perceptually Optimized Color Selection for Visualization</a>,\n <a href=\"posters/meulemans1.pdf\">Assessing Dot-Map Aggregations</a>,\n <a href=\"posters/meulemans2.pdf\">On Minimum-Displacement Overlap Removal</a>,\n <a href=\"posters/miyagi.pdf\">Analysis and Graph Visualization of Eye Tracking Data with a Static Stimulus</a>,\n <a href=\"posters/mosca.pdf\">Towards Data Science for the Masses: A Study of Data Scientists and Their Interactions with Clients<br/>\n </a>,\n <a href=\"posters/navarra.pdf\">Bonus Miracle Tool: Visual Exploration of Nutrients across the Baltic Sea Region</a>,\n <a href=\"posters/novotny.pdf\">Developing Virtual Reality Visualizations of Dinosaur Track Creation with Scientific Sketching</a>,\n <a href=\"posters/pandey.pdf\">CerebroVis: Topology- and Constraint-based Network Layout for the Visualization of Cerebrovascular Arteries</a>,\n <a href=\"posters/park.pdf\">GitHub Viz: An Interactive Visualization to Acquire Knowledge from Authoritative Developers</a>,\n <a href=\"posters/parsons.pdf\">Toward an Analysis of Practitioner-Oriented Resources for Visualization Design</a>,\n <a href=\"posters/perin.pdf\">The Symmetry of My Life II</a>,\n <a href=\"posters/rajabiyazdi.pdf\">Personal Patient-Generated Data Visualizations for Diabetes Patients</a>,\n <a href=\"posters/riviere.pdf\">The Voronoi Projection</a>,\n <a href=\"posters/rogers.pdf\">Composer: Visual Cohort Analysis of Patient Outcomes</a>,\n <a href=\"posters/sathiyanarayanan.pdf\">Visualising E-mail Communication to Improve E-discovery</a>,\n <a href=\"posters/schwab.pdf\">EasyPZ.js: A Library for Pan and Zoom Visualizations</a>,\n <a href=\"posters/serrano.pdf\">Design and Development of a Dashboard for the Visualization and Assessment of Students Work in a Remote Lab</a>,\n <a href=\"posters/skokan.pdf\">Interactive Visual Tools Supporting Effective Health State Understanding of Patient with Comorbidities</a>,\n <a href=\"posters/slingsby.pdf\">Characterising Farms by the Movement of Animals through Them</a>,\n <a href=\"posters/spechtenhauser.pdf\">Towards a Visual Analytics Pipeline for the Analysis of Recurring Patterns in Time Series Data</a>,\n <a href=\"posters/spur.pdf\">Urban DataSphere: Exploring Immersive Multiview Visualizations in Cities</a>,\n <a href=\"posters/stuwe.pdf\">Visual Analysis of Abnormal Thickness of Intraretinal Layers</a>,\n <a href=\"posters/suh.pdf\">TopoLines: Topological Smoothing for Line Charts</a>,\n <a href=\"posters/tyagi.pdf\">Road Accidents in the UK (Analysis and Visualization)</a>,\n <a href=\"posters/uslu.pdf\">PolyViz—A Visualization System for Special Kind of Multipartite Graphs</a>,\n <a href=\"posters/vosough.pdf\">Visualizing the Results of Product Costing Plausibility Checks with Parallel Hierarchies</a>,\n <a href=\"posters/wang.pdf\">Subspace Shapes: Enhancing High-Dimensional Subspace Structures via Ambient Occlusion Shading</a>,\n <a href=\"posters/wannamaker.pdf\">Data Embroidery: Exploring Alternative Mediums for Personal Physicalization</a>,\n <a href=\"posters/waschke.pdf\">Evaluation of Guide Wire Proficiency During a Catheter-based Intervention</a>,\n <a href=\"posters/zeng.pdf\">Manual and Automatic Tree Editing with Applications to Microbiome Time-series Data</a>,\n <a href=\"posters/zhang.pdf\">Increasing Understanding of Survey Re-Weighting with Visualization</a>]"
     },
     "execution_count": 8,
     "metadata": {},
     "output_type": "execute_result"
    }
   ],
   "source": [
    "all_papers"
   ],
   "metadata": {
    "collapsed": false,
    "pycharm": {
     "name": "#%%\n"
    }
   }
  },
  {
   "cell_type": "code",
   "execution_count": 9,
   "outputs": [],
   "source": [
    "def extract_title_link(paper):\n",
    "    title = paper.text.strip()\n",
    "    link = paper.attrs['href']\n",
    "    desc = list(paper.parent.descendants)\n",
    "    authors = desc[len(desc)-1].strip()\n",
    "    # print (authors)\n",
    "    # for i,child in enumerate(par.descendants):\n",
    "    #     print('{} => {}'.format(i, child))\n",
    "    # print(paper.parent)\n",
    "\n",
    "    return {'title':title, 'link':link, 'authors':authors}\n",
    "\n",
    "title_pdf = list(map(extract_title_link, all_papers))"
   ],
   "metadata": {
    "collapsed": false,
    "pycharm": {
     "name": "#%%\n"
    }
   }
  },
  {
   "cell_type": "code",
   "execution_count": 10,
   "outputs": [
    {
     "data": {
      "text/plain": "Index(['Conference', 'Year', 'Title', 'DOI', 'Link', 'FirstPage', 'LastPage',\n       'PaperType', 'Abstract', 'AuthorNames-Deduped', 'AuthorNames',\n       'AuthorAffiliation', 'InternalReferences', 'AuthorKeywords',\n       'AminerCitationCount_02-2020', 'AminerCitationCount_06-2020',\n       'XploreCitationCount - 2020-01', 'PubsCited', 'Award'],\n      dtype='object')"
     },
     "execution_count": 10,
     "metadata": {},
     "output_type": "execute_result"
    }
   ],
   "source": [
    "metas = pd.read_csv('IEEEVISpapers1990-2018.csv')\n",
    "metas.keys()"
   ],
   "metadata": {
    "collapsed": false,
    "pycharm": {
     "name": "#%%\n"
    }
   }
  },
  {
   "cell_type": "code",
   "execution_count": 11,
   "outputs": [
    {
     "data": {
      "text/plain": "['Persistence Atlas for Critical Point Variability in Ensembles',\n 'iForest: Interpreting Random Forests via Visual Analytics',\n 'Clustrophile 2: Guided Visual Clustering Analysis',\n 'Labels on Levels: Labeling of Multi-Scale Multi-Instance and Crowded 3D Biological Environments',\n 'Deadeye: A Novel Preattentive Visualization Technique Based on Dichoptic Presentation',\n 'Manifold: A Model-Agnostic Framework for Interpretation and Diagnosis of Machine Learning Models',\n 'GAN Lab: Understanding Complex Deep Generative Models using Interactive Visual Experimentation',\n 'Visual Abstraction of Large Scale Geospatial Origin-Destination Movement Data',\n 'DQNViz: A Visual Analytics Approach to Understand Deep Q-Networks',\n 'Probabilistic Asymptotic Decider for Topological Ambiguity Resolution in Level-Set Extraction for Uncertain 2D Data',\n 'Visualization of Bubble Formation in Porous Media',\n 'Interactive Visualization of RNA and DNA Structures',\n 'Gaia Sky: Navigating the Gaia Catalog',\n 'Visual Analysis of Aneurysm Data using Statistical Graphics',\n 'Dynamic Volume Lines: Visual Comparison of 3D Volumes through Space-filling Curves',\n 'Duet: Helping Data Analysis Novices Conduct Pairwise Comparisons by Minimal Specification',\n 'Firefly: Virtual Illumination Drones for Interactive Visualization',\n 'Interactive obstruction-free lensing for volumetric data visualization',\n 'Robust and Fast Extraction of 3D Symmetric Tensor Field Topology',\n 'Visual Analytics for Topic Model Optimization based on User-Steerable Speculative Execution',\n 'CoDDA: A Flexible Copula-based Distribution Driven Analysis Framework for Large-Scale Multivariate Data',\n 'Interactive 3D Visual Analysis of Atmospheric Fronts',\n 'Exploring Time-Varying Multivariate Volume Data Using Matrix of Isosurface Similarity Maps',\n 'Analysis of Flight Variability: a Systematic Approach',\n 'RuleMatrix: Visualizing and Understanding Classifiers with Rules',\n 'Recirculation Surfaces for Flow Visualization',\n 'BitExTract: Interactive Visualization for Extracting Bitcoin Exchange Intelligence',\n 'An Interactive Framework for Visualization of Weather Forecast Ensembles',\n 'Interactive Visualization of 3D Histopathology in Native Resolution',\n 'Visual Analysis of Spatia-temporal Relations of Pairwise Attributes in Unsteady Flow',\n 'EnsembleLens: Ensemble-based Visual Exploration of Anomaly Detection Algorithms with Multidimensional Data',\n 'VIBR: Visualizing Bipartite Relations at Scale with the Minimum Description Length Principle',\n 'Hexahedral Mesh Structure Visualization and Evaluation',\n 'Objective Vortex Corelines of Finite-sized Objects in Fluid Flows',\n 'Design Exposition with Literate Visualization',\n 'VIS4ML: An Ontology for Visual Analytics Assisted Machine Learning',\n 'Time-Dependent Flow seen through Approximate Observer Killing Fields',\n 'A Declarative Grammar of Flexible Volume Visualization Pipelines',\n 'An Interactive Method to Improve Crowdsourced Annotations',\n 'A Visual Analytics Framework for Spatiotemporal Trade Network Analysis',\n 'DT-MRI Streamsurfaces Revisited',\n 'Tensor Field Visualization using Fiber Surfaces of Invariant Space',\n 'Culling for Extreme-Scale Segmentation Volumes: A Hybrid Deterministic and Probabilistic Approach',\n 'Shared-Memory Parallel Computation of Morse-Smale Complexes with Improved Accuracy',\n 'Details-First, Show Context, Overview Last: Supporting Exploration of Viscous Fingers in Large-Scale Ensemble Simulations',\n 'CPU Isosurface Ray Tracing of Adaptive Mesh Refinement Data',\n 'Visualization of Large Molecular Trajectories',\n 'Visualization of Neuronal Structures in Wide-Field Microscopy Brain Images',\n 'A Study of the Trade-off Between Reducing Precision and Reducing Resolution for Data Analysis and Visualization',\n 'Face to Face: Evaluating Visual Comparison',\n 'Visual Progression Analysis of Event Sequence Data',\n 'MAQUI: Interweaving Queries and Pattern Mining for Recursive Event Sequence Exploration',\n 'InkPlanner: Supporting Prewriting via Intelligent Visual Diagramming',\n 'In Pursuit of Error: A Survey of Uncertainty Visualization Evaluation',\n 'iStoryline: Effective Convergence to Hand-drawn Storylines',\n 'Visual Analysis of the Temporal Evolution of Ensemble Forecast Sensitivities',\n 'What Do We Talk About When We Talk About Dashboards?',\n 'Doccurate: A Curation-Based Approach for Clinical Text Visualization',\n 'Looks Good To Me: Visualizations As Sanity Checks',\n 'Hypothetical Outcome Plots Help Untrained Observers Judge Trends in Ambiguous Data',\n 'Structure-aware Fisheye Views for Efficient Large Graph Exploration',\n 'Optimizing Color Assignment for Perception of Class Separability in Multiclass Scatterplots',\n 'A Framework for Externalizing Implicit Error Using Visualization',\n \"Where's My Data? Evaluating Visualizations with Missing Data\",\n 'TPFlow: Progressive Partition and Multidimensional Pattern Extraction for Large-Scale Spatio-Temporal Data Analysis',\n 'Evaluating Multi-Dimensional Visualizations for Understanding Fuzzy Clusters',\n 'GraphProtector: A Visual Interface for Employing and Assessing Multiple Privacy Preserving Graph Algorithms',\n 'VIS Author Profiles: Interactive Descriptions of Publication Records Combining Text and Visualization',\n 'Lessons Learned Developing a Visual Analytics Solution for Investigative Analysis of Scamming Activities',\n 'KnowledgePearls: Provenance-Based Visualization Retrieval',\n 'An Information-Theoretic Approach to the Cost-benefit Analysis of Visualization in Virtual Environments',\n 'A Visual Analytics Framework for the Detection of Anomalous Call Stack Trees in High Performance Computing Applications',\n 'RetainVis: Visual Analytics with Interpretable and Interactive Recurrent Neural Networks on Electronic Medical Records',\n 'Vulnus: Visual Vulnerability Analysis for Network Security',\n 'Situ: Identifying and Explaining Suspicious Behavior in Networks',\n 'Enhancing Web-based Analytics Applications through Provenance',\n 'Futzing and Moseying: Interviews with Professional Data Analysts on Exploration Practices',\n 'ForVizor: Visualizing Spatio-Temporal Team Formations in Soccer',\n 'Identification of Temporally Varying Areas of Interest in Long-Duration Eye-Tracking Data Sets',\n 'RegressionExplorer: Interactive Exploration of Logistic Regression Models with Subgroup Analysis',\n 'Seq2Seq-Vis: A Visual Debugging Tool for Sequence-to-Sequence Models',\n 'SIRIUS: Dual, Symmetric, Interactive Dimension Reductions',\n 'MotionRugs: Visualizing Collective Trends in Space and Time',\n 'Drag and Track: A Direct Manipulation Interface for Contextualizing Data Instances within a Continuous Parameter Space',\n 'Embedded Merge & Split: Visual Adjustment of Data Grouping',\n 'IDMVis: Temporal Event Sequence Visualization for Type 1 Diabetes Treatment Decision Support',\n 'Comparing Similarity Perception in Time Series Visualizations',\n 'Patterns and Pace: Quantifying Diverse Exploration Behavior with Visualizations on the Web',\n 'Shape-preserving Star Coordinates',\n 'Elastic Documents: Coupling Text and Tables through Contextual Visualizations for Enhanced Document Reading',\n 'SRVis: Towards Better Spatial Integration in Ranking Visualization',\n 'Evaluating ‘Graphical Perception’ with CNNs',\n 'Structure-Based Suggestive Exploration: A New Approach for Effective Exploration of Large Networks',\n 'A Declarative Rendering Model for Multiclass Density Maps',\n 'Glanceable Visualization: Studies of Data Comparison Performance on Smartwatches',\n 'Vistrates: A Component Model for Ubiquitous Analytics',\n 'Augmenting Visualizations with Interactive Data Facts to Facilitate Interpretation and Communication',\n 'A Heuristic Approach to Value-Driven Evaluation of Visualizations',\n 'Mapping Color to Meaning in Colormap Data Visualizations',\n 'Juniper: A Tree+Table Approach to Multivariate Graph Visualization',\n 'Graphicle: Exploring Units, Networks, and Context in a Blended Visualization Approach',\n 'DXR: A Toolkit for Building Immersive Data Visualizations',\n 'Charticulator: Interactive Construction of Bespoke Chart Layouts',\n 'Dynamic Composite Data Physicalization Using Wheeled Micro-Robots',\n 'FiberClay: Sculpting Three Dimensional Trajectories to Reveal Structural Insights',\n 'Origin-Destination Flow Maps in Immersive Environments',\n 'Visualizing Uncertain Tropical Cyclone Predictions using Representative Samples from Ensembles of Forecast Tracks',\n 'DimReader: Axis lines that explain non-linear projections',\n 'NLIZE: A Perturbation-Driven Visual Interrogation Tool for Analyzing and Interpreting Natural Language Inference Models',\n 'SmartCues: A Multitouch Query Approach for Details-on-Demand through Dynamically Computed Overlays',\n 'Narvis: Authoring Narrative Slideshows for Introducing Data Visualization Designs',\n 'Mitigating the Attraction Effect with Visualizations',\n 'Visualizing Ranges over Time on Mobile Phones: A Task-Based Crowdsourced Evaluation',\n 'Multiple Coordinated Views at Large Displays for Multiple Users: Empirical Findings on User Behavior, Movements, and Distances',\n 'Information Olfactation: Harnessing Scent to Convey Data',\n 'Formalizing Visualization Design Knowledge as Constraints: Actionable and Extensible Models in Draco',\n 'A Framework for Creative Visualization-Opportunities Workshops',\n 'At a Glance: Pixel Approximate Entropy as a Measure of Line Chart Complexity',\n 'Temporal Treemaps: Static Visualization of Evolving Trees',\n 'Image-Based Aspect Ratio Selection',\n 'VUSphere: Visual Analysis of Video Utilization in Online Distance Education',\n 'Segue: Overviewing Evolution Patterns of Egocentric Networks by Interactive Construction of Spatial Layouts',\n 'The Effect of Semantic Interaction on Foraging in Text Analysis',\n 'The Effect of Proximity in Social Data Charts on Perceived Unity',\n 'EmbeddingVis: A Visual Analytics Approach to Comparative Network Embedding Inspection',\n 'SMARTexplore: Simplifying High-Dimensional Data Analysis through a Table-Based Visual Analytics Approach',\n 'Analyzing the Noise Robustness of Deep Neural Networks']"
     },
     "execution_count": 11,
     "metadata": {},
     "output_type": "execute_result"
    }
   ],
   "source": [
    "only2018 = metas[metas.Year==2018]\n",
    "titles = only2018.Title.to_list()\n",
    "titles"
   ],
   "metadata": {
    "collapsed": false,
    "pycharm": {
     "name": "#%%\n"
    }
   }
  },
  {
   "cell_type": "code",
   "execution_count": 12,
   "outputs": [],
   "source": [
    "all_data =title_pdf\n",
    "# for t_p in title_pdf:\n",
    "#     match_title = process.extractOne(t_p['title'], titles)\n",
    "#     if match_title[1]>89:\n",
    "#         # print('{0:03d} - {1} {2} '.format(match_title[1],t_p['title'][:50],match_title[0]))\n",
    "#         full_info = metas[metas.Title==match_title[0]]\n",
    "#         if not full_info.empty:\n",
    "#             dict= full_info.to_dict('records')[0]\n",
    "#             dict['pdf_local'] = t_p['link']\n",
    "#             all_data.append(dict)\n",
    "#         else:\n",
    "#             print('not found: {}'.format(t_p['title']))\n",
    "#     else:\n",
    "#         print('ignored: {0:03d} - {1} {2} '.format(match_title[1],t_p['title'][:50],match_title[0]))"
   ],
   "metadata": {
    "collapsed": false,
    "pycharm": {
     "name": "#%%\n"
    }
   }
  },
  {
   "cell_type": "code",
   "execution_count": 13,
   "outputs": [
    {
     "data": {
      "text/plain": "['title', 'link', 'authors']"
     },
     "execution_count": 13,
     "metadata": {},
     "output_type": "execute_result"
    }
   ],
   "source": [
    "list(all_data[0].keys())"
   ],
   "metadata": {
    "collapsed": false,
    "pycharm": {
     "name": "#%%\n"
    }
   }
  },
  {
   "cell_type": "code",
   "execution_count": 14,
   "outputs": [],
   "source": [
    "import csv\n",
    "\n",
    "with open('all_posters.csv', 'w', newline='') as csvfile:\n",
    "    fieldnames = list(all_data[0].keys())\n",
    "    writer = csv.DictWriter(csvfile, fieldnames=fieldnames)\n",
    "\n",
    "    writer.writeheader()\n",
    "    for d in all_data:\n",
    "        writer.writerow(d)"
   ],
   "metadata": {
    "collapsed": false,
    "pycharm": {
     "name": "#%%\n"
    }
   }
  },
  {
   "cell_type": "code",
   "execution_count": null,
   "outputs": [],
   "source": [
    "\n"
   ],
   "metadata": {
    "collapsed": false,
    "pycharm": {
     "name": "#%%\n"
    }
   }
  }
 ],
 "metadata": {
  "kernelspec": {
   "display_name": "Python 3",
   "language": "python",
   "name": "python3"
  },
  "language_info": {
   "codemirror_mode": {
    "name": "ipython",
    "version": 2
   },
   "file_extension": ".py",
   "mimetype": "text/x-python",
   "name": "python",
   "nbconvert_exporter": "python",
   "pygments_lexer": "ipython2",
   "version": "2.7.6"
  }
 },
 "nbformat": 4,
 "nbformat_minor": 0
}